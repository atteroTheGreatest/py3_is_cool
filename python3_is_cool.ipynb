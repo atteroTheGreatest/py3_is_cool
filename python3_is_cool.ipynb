{
 "metadata": {
  "celltoolbar": "Slideshow",
  "name": "",
  "signature": "sha256:d58627281f1580ab413db169fc6002866013e0c071795f33c0293c2014e20018"
 },
 "nbformat": 3,
 "nbformat_minor": 0,
 "worksheets": [
  {
   "cells": [
    {
     "cell_type": "markdown",
     "metadata": {
      "slideshow": {
       "slide_type": "slide"
      }
     },
     "source": [
      "#Python3 is cool and you should use it\n",
      "\n",
      "From [wiki.python.org](https://wiki.python.org/moin/Python2orPython3):\n",
      "\n",
      ">Short version: Python 2.x is legacy, Python 3.x is the present and future of the language"
     ]
    },
    {
     "cell_type": "markdown",
     "metadata": {
      "slideshow": {
       "slide_type": "slide"
      }
     },
     "source": [
      "- why the change?\n",
      "- biggest changes\n",
      "- cool features\n",
      "- cool libraries"
     ]
    },
    {
     "cell_type": "markdown",
     "metadata": {
      "slideshow": {
       "slide_type": "slide"
      }
     },
     "source": [
      "#Biggest changes\n",
      "\n",
      "- unicode everywhere\n",
      "- print function\n",
      "- yield from\n",
      "- function annotations\n",
      "- exceptions"
     ]
    },
    {
     "cell_type": "markdown",
     "metadata": {
      "slideshow": {
       "slide_type": "slide"
      }
     },
     "source": [
      "#New awesome features in standard library!\n",
      "\n",
      "##functools\n",
      "\n",
      "- lru_cache\n",
      "- single_dispatch"
     ]
    },
    {
     "cell_type": "markdown",
     "metadata": {
      "slideshow": {
       "slide_type": "slide"
      }
     },
     "source": [
      "#Last recently used cache"
     ]
    },
    {
     "cell_type": "code",
     "collapsed": false,
     "input": [
      "import functools\n",
      "import urllib\n",
      "\n",
      "\n",
      "@functools.lru_cache(maxsize=32)\n",
      "def get_pep(num):\n",
      "    'Retrieve text of a Python Enhancement Proposal'\n",
      "    resource = 'http://www.python.org/dev/peps/pep-%04d/' % num\n",
      "    try:\n",
      "        with urllib.request.urlopen(resource) as s:\n",
      "            return s.read()\n",
      "    except urllib.error.HTTPError:\n",
      "        return 'Not Found'"
     ],
     "language": "python",
     "metadata": {
      "slideshow": {
       "slide_type": "subslide"
      }
     },
     "outputs": [],
     "prompt_number": 1
    },
    {
     "cell_type": "code",
     "collapsed": false,
     "input": [
      "for n in 8, 290, 308, 320, 8, 218, 320, 279, 289, 320, 9991:\n",
      "    pep = get_pep(n)\n",
      "    print(n, len(pep))\n",
      "\n",
      "get_pep.cache_info()\n"
     ],
     "language": "python",
     "metadata": {
      "slideshow": {
       "slide_type": "subslide"
      }
     },
     "outputs": [
      {
       "output_type": "stream",
       "stream": "stdout",
       "text": [
        "8 71449\n",
        "290"
       ]
      },
      {
       "output_type": "stream",
       "stream": "stdout",
       "text": [
        " 36622\n",
        "308"
       ]
      },
      {
       "output_type": "stream",
       "stream": "stdout",
       "text": [
        " 29850\n",
        "320"
       ]
      },
      {
       "output_type": "stream",
       "stream": "stdout",
       "text": [
        " 19440\n",
        "8 71449\n",
        "218"
       ]
      },
      {
       "output_type": "stream",
       "stream": "stdout",
       "text": [
        " 19918\n",
        "320 19440\n",
        "279"
       ]
      },
      {
       "output_type": "stream",
       "stream": "stdout",
       "text": [
        " 20886\n",
        "289"
       ]
      },
      {
       "output_type": "stream",
       "stream": "stdout",
       "text": [
        " 27641\n",
        "320 19440\n",
        "9991"
       ]
      },
      {
       "output_type": "stream",
       "stream": "stdout",
       "text": [
        " 9\n"
       ]
      },
      {
       "metadata": {},
       "output_type": "pyout",
       "prompt_number": 2,
       "text": [
        "CacheInfo(hits=3, misses=8, maxsize=32, currsize=8)"
       ]
      }
     ],
     "prompt_number": 2
    },
    {
     "cell_type": "code",
     "collapsed": false,
     "input": [
      "@functools.lru_cache(maxsize=None)\n",
      "def fib(n):\n",
      "    if n < 2:\n",
      "        return n\n",
      "    return fib(n-1) + fib(n-2)\n",
      "\n",
      "print([fib(n) for n in range(16)])\n"
     ],
     "language": "python",
     "metadata": {
      "slideshow": {
       "slide_type": "subslide"
      }
     },
     "outputs": [
      {
       "output_type": "stream",
       "stream": "stdout",
       "text": [
        "[0, 1, 1, 2, 3, 5, 8, 13, 21, 34, 55, 89, 144, 233, 377, 610]\n"
       ]
      }
     ],
     "prompt_number": 3
    },
    {
     "cell_type": "code",
     "collapsed": false,
     "input": [
      "fib.cache_info()"
     ],
     "language": "python",
     "metadata": {
      "slideshow": {
       "slide_type": "fragment"
      }
     },
     "outputs": [
      {
       "metadata": {},
       "output_type": "pyout",
       "prompt_number": 4,
       "text": [
        "CacheInfo(hits=28, misses=16, maxsize=None, currsize=16)"
       ]
      }
     ],
     "prompt_number": 4
    },
    {
     "cell_type": "markdown",
     "metadata": {
      "slideshow": {
       "slide_type": "slide"
      }
     },
     "source": [
      "#Single dispatch"
     ]
    },
    {
     "cell_type": "code",
     "collapsed": false,
     "input": [
      "from functools import singledispatch\n",
      "\n",
      "\n",
      "@singledispatch\n",
      "def fun(arg, verbose=False):\n",
      "    if verbose:\n",
      "        print(\"Let me just say,\", end=\" \")\n",
      "    print(arg)"
     ],
     "language": "python",
     "metadata": {
      "slideshow": {
       "slide_type": "subslide"
      }
     },
     "outputs": [],
     "prompt_number": 5
    },
    {
     "cell_type": "markdown",
     "metadata": {
      "slideshow": {
       "slide_type": "subslide"
      }
     },
     "source": [
      "To add overloaded implementations to the function, use the register() attribute of the generic function. It is a decorator, taking a type parameter and decorating a function implementing the operation for that type:"
     ]
    },
    {
     "cell_type": "code",
     "collapsed": false,
     "input": [
      "@fun.register(int)\n",
      "def _(arg, verbose=False):\n",
      "    if verbose:\n",
      "        print(\"Strength in numbers, eh?\", end=\" \")\n",
      "    print(arg)\n",
      "\n",
      "    \n",
      "@fun.register(list)\n",
      "def _(arg, verbose=False):\n",
      "    if verbose:\n",
      "        print(\"Enumerate this:\")\n",
      "    for i, elem in enumerate(arg):\n",
      "        print(i, elem)"
     ],
     "language": "python",
     "metadata": {
      "slideshow": {
       "slide_type": "subslide"
      }
     },
     "outputs": [],
     "prompt_number": 6
    },
    {
     "cell_type": "markdown",
     "metadata": {
      "slideshow": {
       "slide_type": "subslide"
      }
     },
     "source": [
      "To enable registering lambdas and pre-existing functions, the register() attribute can be used in a functional form:"
     ]
    },
    {
     "cell_type": "code",
     "collapsed": false,
     "input": [
      "def nothing(arg, verbose=False):\n",
      "    print(\"Nothing.\")\n",
      "\n",
      "fun.register(type(None), nothing)"
     ],
     "language": "python",
     "metadata": {
      "slideshow": {
       "slide_type": "subslide"
      }
     },
     "outputs": [
      {
       "metadata": {},
       "output_type": "pyout",
       "prompt_number": 7,
       "text": [
        "<function __main__.nothing>"
       ]
      }
     ],
     "prompt_number": 7
    },
    {
     "cell_type": "code",
     "collapsed": false,
     "input": [
      "fun(\"Hello, world.\")"
     ],
     "language": "python",
     "metadata": {
      "slideshow": {
       "slide_type": "subslide"
      }
     },
     "outputs": [
      {
       "output_type": "stream",
       "stream": "stdout",
       "text": [
        "Hello, world.\n"
       ]
      }
     ],
     "prompt_number": 8
    },
    {
     "cell_type": "code",
     "collapsed": false,
     "input": [
      "fun(\"test.\", verbose=True)"
     ],
     "language": "python",
     "metadata": {
      "slideshow": {
       "slide_type": "fragment"
      }
     },
     "outputs": [
      {
       "output_type": "stream",
       "stream": "stdout",
       "text": [
        "Let me just say, test.\n"
       ]
      }
     ],
     "prompt_number": 9
    },
    {
     "cell_type": "code",
     "collapsed": false,
     "input": [
      "fun(42, verbose=True)"
     ],
     "language": "python",
     "metadata": {
      "slideshow": {
       "slide_type": "fragment"
      }
     },
     "outputs": [
      {
       "output_type": "stream",
       "stream": "stdout",
       "text": [
        "Strength in numbers, eh? 42\n"
       ]
      }
     ],
     "prompt_number": 10
    },
    {
     "cell_type": "code",
     "collapsed": false,
     "input": [
      "fun(['spam', 'spam', 'eggs', 'spam'], verbose=True)"
     ],
     "language": "python",
     "metadata": {
      "slideshow": {
       "slide_type": "fragment"
      }
     },
     "outputs": [
      {
       "output_type": "stream",
       "stream": "stdout",
       "text": [
        "Enumerate this:\n",
        "0 spam\n",
        "1 spam\n",
        "2 eggs\n",
        "3 spam\n"
       ]
      }
     ],
     "prompt_number": 11
    },
    {
     "cell_type": "markdown",
     "metadata": {
      "slideshow": {
       "slide_type": "slide"
      }
     },
     "source": [
      "#No more annoying `.pyc` files laying around\n",
      "\n",
      "They are now stored in `__pychache__` directory with additional info about compilation, etc"
     ]
    },
    {
     "cell_type": "markdown",
     "metadata": {
      "slideshow": {
       "slide_type": "slide"
      }
     },
     "source": [
      "#Better memory management\n",
      "\n"
     ]
    },
    {
     "cell_type": "markdown",
     "metadata": {},
     "source": [
      "#Default division doesn't truncate"
     ]
    },
    {
     "cell_type": "code",
     "collapsed": false,
     "input": [
      "2 / 3"
     ],
     "language": "python",
     "metadata": {},
     "outputs": [
      {
       "metadata": {},
       "output_type": "pyout",
       "prompt_number": 12,
       "text": [
        "0.6666666666666666"
       ]
      }
     ],
     "prompt_number": 12
    },
    {
     "cell_type": "markdown",
     "metadata": {
      "slideshow": {
       "slide_type": "slide"
      }
     },
     "source": [
      "#Cool exceptions!"
     ]
    },
    {
     "cell_type": "markdown",
     "metadata": {
      "slideshow": {
       "slide_type": "subslide"
      }
     },
     "source": [
      "Implicit:"
     ]
    },
    {
     "cell_type": "code",
     "collapsed": false,
     "input": [
      "try:\n",
      "    v = {}['a']\n",
      "except KeyError as e:\n",
      "    raise ValueError('failed')"
     ],
     "language": "python",
     "metadata": {
      "slideshow": {
       "slide_type": "fragment"
      }
     },
     "outputs": []
    },
    {
     "cell_type": "markdown",
     "metadata": {
      "slideshow": {
       "slide_type": "subslide"
      }
     },
     "source": [
      "Explicit:"
     ]
    },
    {
     "cell_type": "code",
     "collapsed": false,
     "input": [
      "try:\n",
      "    v = {}['a']\n",
      "except KeyError as e:\n",
      "    raise ValueError('failed') from e"
     ],
     "language": "python",
     "metadata": {
      "slideshow": {
       "slide_type": "fragment"
      }
     },
     "outputs": []
    },
    {
     "cell_type": "markdown",
     "metadata": {
      "slideshow": {
       "slide_type": "subslide"
      }
     },
     "source": [
      "Doesn't work in IPython"
     ]
    },
    {
     "cell_type": "markdown",
     "metadata": {
      "slideshow": {
       "slide_type": "fragment"
      }
     },
     "source": [
      "but I'm working on that:\n",
      "\n",
      "[github issue](https://github.com/ipython/ipython/issues/1673)"
     ]
    },
    {
     "cell_type": "markdown",
     "metadata": {
      "slideshow": {
       "slide_type": "slide"
      }
     },
     "source": [
      "#New modules in standard library:\n",
      "\n",
      "- [enum](https://docs.python.org/3.4/library/enum.html)\n",
      "- [statistics](https://docs.python.org/3.4/library/statistics.html)\n",
      "- [asyncio](https://docs.python.org/3.4/library/asyncio.html)\n",
      "- tracemalloc\n",
      "- faulthandler\n",
      "- unittest.mock\n",
      "- ipaddress\n",
      "\n",
      "and more."
     ]
    },
    {
     "cell_type": "markdown",
     "metadata": {
      "slideshow": {
       "slide_type": "slide"
      }
     },
     "source": [
      "#Enum!"
     ]
    },
    {
     "cell_type": "code",
     "collapsed": false,
     "input": [
      "from enum import Enum\n",
      "\n",
      "class Mood(Enum):\n",
      "    funky = 1\n",
      "    happy = 3\n",
      "    \n",
      "    def describe(self):\n",
      "       # self is the member here\n",
      "        return self.name, self.value\n",
      "\n",
      "    def __str__(self):\n",
      "        return 'my custom str! {0}'.format(self.value)\n",
      "\n",
      "    @classmethod\n",
      "    def favorite_mood(cls):\n",
      "        # cls here is the enumeration\n",
      "        return cls.happy"
     ],
     "language": "python",
     "metadata": {
      "slideshow": {
       "slide_type": "subslide"
      }
     },
     "outputs": [],
     "prompt_number": 14
    },
    {
     "cell_type": "code",
     "collapsed": false,
     "input": [
      "print(Mood.favorite_mood())\n",
      "print(Mood.happy.describe())\n",
      "str(Mood.funky)"
     ],
     "language": "python",
     "metadata": {
      "slideshow": {
       "slide_type": "subslide"
      }
     },
     "outputs": [
      {
       "output_type": "stream",
       "stream": "stdout",
       "text": [
        "my custom str! 3\n",
        "('happy', 3)\n"
       ]
      },
      {
       "metadata": {},
       "output_type": "pyout",
       "prompt_number": 15,
       "text": [
        "'my custom str! 1'"
       ]
      }
     ],
     "prompt_number": 15
    },
    {
     "cell_type": "code",
     "collapsed": false,
     "input": [
      "class Planet(Enum):\n",
      "    MERCURY = (3.303e+23, 2.4397e6)\n",
      "    VENUS   = (4.869e+24, 6.0518e6)\n",
      "    EARTH   = (5.976e+24, 6.37814e6)\n",
      "    MARS    = (6.421e+23, 3.3972e6)\n",
      "    JUPITER = (1.9e+27,   7.1492e7)\n",
      "    SATURN  = (5.688e+26, 6.0268e7)\n",
      "    URANUS  = (8.686e+25, 2.5559e7)\n",
      "    NEPTUNE = (1.024e+26, 2.4746e7)\n",
      "    def __init__(self, mass, radius):\n",
      "        self.mass = mass       # in kilograms\n",
      "        self.radius = radius   # in meters\n",
      "    @property\n",
      "    def surface_gravity(self):\n",
      "        # universal gravitational constant  (m3 kg-1 s-2)\n",
      "        G = 6.67300E-11\n",
      "        return G * self.mass / (self.radius * self.radius)"
     ],
     "language": "python",
     "metadata": {
      "slideshow": {
       "slide_type": "subslide"
      }
     },
     "outputs": [],
     "prompt_number": 16
    },
    {
     "cell_type": "code",
     "collapsed": false,
     "input": [
      "Planet.EARTH.value"
     ],
     "language": "python",
     "metadata": {
      "slideshow": {
       "slide_type": "subslide"
      }
     },
     "outputs": [
      {
       "metadata": {},
       "output_type": "pyout",
       "prompt_number": 17,
       "text": [
        "(5.976e+24, 6378140.0)"
       ]
      }
     ],
     "prompt_number": 17
    },
    {
     "cell_type": "code",
     "collapsed": false,
     "input": [
      "Planet.EARTH.surface_gravity"
     ],
     "language": "python",
     "metadata": {
      "slideshow": {
       "slide_type": "fragment"
      }
     },
     "outputs": [
      {
       "metadata": {},
       "output_type": "pyout",
       "prompt_number": 18,
       "text": [
        "9.802652743337129"
       ]
      }
     ],
     "prompt_number": 18
    },
    {
     "cell_type": "markdown",
     "metadata": {
      "slideshow": {
       "slide_type": "slide"
      }
     },
     "source": [
      "#statistics\n",
      "\n",
      "https://docs.python.org/3.4/library/statistics.html"
     ]
    },
    {
     "cell_type": "code",
     "collapsed": false,
     "input": [
      "import statistics\n",
      "\n",
      "scores = [12, 13, 88, 12, 61, 32]\n",
      "\n",
      "print(statistics.mean(scores))\n",
      "print(statistics.stdev(scores))\n",
      "print(statistics.mode(scores))"
     ],
     "language": "python",
     "metadata": {
      "slideshow": {
       "slide_type": "subslide"
      }
     },
     "outputs": [
      {
       "output_type": "stream",
       "stream": "stdout",
       "text": [
        "36.333333333333336\n",
        "31.702786418021155\n",
        "12\n"
       ]
      }
     ],
     "prompt_number": 19
    },
    {
     "cell_type": "code",
     "collapsed": false,
     "input": [
      "print(statistics.mode(range(5)))"
     ],
     "language": "python",
     "metadata": {
      "slideshow": {
       "slide_type": "subslide"
      }
     },
     "outputs": [
      {
       "ename": "StatisticsError",
       "evalue": "no unique mode; found 5 equally common values",
       "output_type": "pyerr",
       "traceback": [
        "\u001b[1;31m---------------------------------------------------------------------------\u001b[0m\n\u001b[1;31mStatisticsError\u001b[0m                           Traceback (most recent call last)",
        "\u001b[1;32m<ipython-input-20-af5dc1939414>\u001b[0m in \u001b[0;36m<module>\u001b[1;34m()\u001b[0m\n\u001b[1;32m----> 1\u001b[1;33m \u001b[0mprint\u001b[0m\u001b[1;33m(\u001b[0m\u001b[0mstatistics\u001b[0m\u001b[1;33m.\u001b[0m\u001b[0mmode\u001b[0m\u001b[1;33m(\u001b[0m\u001b[0mrange\u001b[0m\u001b[1;33m(\u001b[0m\u001b[1;36m5\u001b[0m\u001b[1;33m)\u001b[0m\u001b[1;33m)\u001b[0m\u001b[1;33m)\u001b[0m\u001b[1;33m\u001b[0m\u001b[0m\n\u001b[0m",
        "\u001b[1;32m/usr/lib/python3.4/statistics.py\u001b[0m in \u001b[0;36mmode\u001b[1;34m(data)\u001b[0m\n\u001b[0;32m    432\u001b[0m     \u001b[1;32melif\u001b[0m \u001b[0mtable\u001b[0m\u001b[1;33m:\u001b[0m\u001b[1;33m\u001b[0m\u001b[0m\n\u001b[0;32m    433\u001b[0m         raise StatisticsError(\n\u001b[1;32m--> 434\u001b[1;33m                 \u001b[1;34m'no unique mode; found %d equally common values'\u001b[0m \u001b[1;33m%\u001b[0m \u001b[0mlen\u001b[0m\u001b[1;33m(\u001b[0m\u001b[0mtable\u001b[0m\u001b[1;33m)\u001b[0m\u001b[1;33m\u001b[0m\u001b[0m\n\u001b[0m\u001b[0;32m    435\u001b[0m                 )\n\u001b[0;32m    436\u001b[0m     \u001b[1;32melse\u001b[0m\u001b[1;33m:\u001b[0m\u001b[1;33m\u001b[0m\u001b[0m\n",
        "\u001b[1;31mStatisticsError\u001b[0m: no unique mode; found 5 equally common values"
       ]
      }
     ],
     "prompt_number": 20
    },
    {
     "cell_type": "markdown",
     "metadata": {},
     "source": [
      "#Asyncio"
     ]
    },
    {
     "cell_type": "code",
     "collapsed": false,
     "input": [
      "import asyncio\n",
      "\n",
      "@asyncio.coroutine\n",
      "def greet_every_two_seconds_three_times():\n",
      "    for _ in range(3):\n",
      "        print('Hello World')\n",
      "        yield from asyncio.sleep(2)\n",
      "\n",
      "loop = asyncio.get_event_loop()\n",
      "loop.run_until_complete(greet_every_two_seconds_three_times())"
     ],
     "language": "python",
     "metadata": {
      "slideshow": {
       "slide_type": "slide"
      }
     },
     "outputs": [
      {
       "output_type": "stream",
       "stream": "stdout",
       "text": [
        "Hello World\n",
        "Hello World"
       ]
      },
      {
       "output_type": "stream",
       "stream": "stdout",
       "text": [
        "\n",
        "Hello World"
       ]
      },
      {
       "output_type": "stream",
       "stream": "stdout",
       "text": [
        "\n"
       ]
      }
     ],
     "prompt_number": 21
    },
    {
     "cell_type": "code",
     "collapsed": false,
     "input": [
      "import asyncio\n",
      "\n",
      "@asyncio.coroutine\n",
      "def compute(x, y):\n",
      "    print(\"Compute %s + %s ...\" % (x, y))\n",
      "    yield from asyncio.sleep(1.0)\n",
      "    return x + y\n",
      "\n",
      "@asyncio.coroutine\n",
      "def print_sum(x, y):\n",
      "    result = yield from compute(x, y)\n",
      "    print(\"%s + %s = %s\" % (x, y, result))\n",
      "\n",
      "loop = asyncio.get_event_loop()\n",
      "loop.run_until_complete(print_sum(1, 2))\n"
     ],
     "language": "python",
     "metadata": {
      "slideshow": {
       "slide_type": "subslide"
      }
     },
     "outputs": [
      {
       "output_type": "stream",
       "stream": "stdout",
       "text": [
        "Compute 1 + 2 ...\n",
        "1 + 2 = 3"
       ]
      },
      {
       "output_type": "stream",
       "stream": "stdout",
       "text": [
        "\n"
       ]
      }
     ],
     "prompt_number": 22
    },
    {
     "cell_type": "markdown",
     "metadata": {
      "slideshow": {
       "slide_type": "subslide"
      }
     },
     "source": [
      "![](https://docs.python.org/3.4/_images/tulip_coro.png)"
     ]
    },
    {
     "cell_type": "code",
     "collapsed": false,
     "input": [
      "import asyncio\n",
      "\n",
      "@asyncio.coroutine\n",
      "def factorial(name, number):\n",
      "    f = 1\n",
      "    for i in range(2, number+1):\n",
      "        print(\"Task %s: Compute factorial(%s)...\" % (name, i))\n",
      "        yield from asyncio.sleep(1)\n",
      "        f *= i\n",
      "    print(\"Task %s: factorial(%s) = %s\" % (name, number, f))\n",
      "\n",
      "tasks = [\n",
      "    asyncio.Task(factorial(\"A\", 2)),\n",
      "    asyncio.Task(factorial(\"B\", 3)),\n",
      "    asyncio.Task(factorial(\"C\", 4))]\n",
      "\n",
      "loop = asyncio.get_event_loop()\n",
      "loop.run_until_complete(asyncio.wait(tasks))\n",
      "loop.close()"
     ],
     "language": "python",
     "metadata": {
      "slideshow": {
       "slide_type": "subslide"
      }
     },
     "outputs": [
      {
       "output_type": "stream",
       "stream": "stdout",
       "text": [
        "Task A: Compute factorial(2)...\n",
        "Task B: Compute factorial(2)...\n",
        "Task C: Compute factorial(2)...\n",
        "Task A: factorial(2) = 2"
       ]
      },
      {
       "output_type": "stream",
       "stream": "stdout",
       "text": [
        "\n",
        "Task B: Compute factorial(3)...\n",
        "Task C: Compute factorial(3)...\n",
        "Task B: factorial(3) = 6"
       ]
      },
      {
       "output_type": "stream",
       "stream": "stdout",
       "text": [
        "\n",
        "Task C: Compute factorial(4)...\n",
        "Task C: factorial(4) = 24"
       ]
      },
      {
       "output_type": "stream",
       "stream": "stdout",
       "text": [
        "\n"
       ]
      }
     ],
     "prompt_number": 23
    },
    {
     "cell_type": "markdown",
     "metadata": {
      "slideshow": {
       "slide_type": "slide"
      }
     },
     "source": [
      "#yield from"
     ]
    },
    {
     "cell_type": "code",
     "collapsed": false,
     "input": [
      "yield from [1, 2, 'banana!']"
     ],
     "language": "python",
     "metadata": {
      "slideshow": {
       "slide_type": "subslide"
      }
     },
     "outputs": [
      {
       "ename": "SyntaxError",
       "evalue": "'yield' outside function (<ipython-input-24-76bdf12a82f9>, line 1)",
       "output_type": "pyerr",
       "traceback": [
        "\u001b[1;36m  File \u001b[1;32m\"<ipython-input-24-76bdf12a82f9>\"\u001b[1;36m, line \u001b[1;32m1\u001b[0m\n\u001b[1;33m    yield from [1, 2, 'banana!']\u001b[0m\n\u001b[1;37m                                ^\u001b[0m\n\u001b[1;31mSyntaxError\u001b[0m\u001b[1;31m:\u001b[0m 'yield' outside function\n"
       ]
      }
     ],
     "prompt_number": 24
    },
    {
     "cell_type": "code",
     "collapsed": false,
     "input": [
      "def show_me_yield():\n",
      "    yield from range(2)\n",
      "    yield \"Surprise!\"\n",
      "    yield from sorted(range(2), reverse=True)"
     ],
     "language": "python",
     "metadata": {
      "slideshow": {
       "slide_type": "subslide"
      }
     },
     "outputs": [],
     "prompt_number": 28
    },
    {
     "cell_type": "code",
     "collapsed": false,
     "input": [
      "for value in show_me_yield():\n",
      "    print(value)"
     ],
     "language": "python",
     "metadata": {
      "slideshow": {
       "slide_type": "subslide"
      }
     },
     "outputs": [
      {
       "output_type": "stream",
       "stream": "stdout",
       "text": [
        "0\n",
        "1\n",
        "Surprise!\n",
        "1\n",
        "0\n"
       ]
      }
     ],
     "prompt_number": 29
    },
    {
     "cell_type": "markdown",
     "metadata": {
      "slideshow": {
       "slide_type": "slide"
      }
     },
     "source": [
      "#extended unpacking"
     ]
    },
    {
     "cell_type": "code",
     "collapsed": false,
     "input": [
      "first, *rest = range(5)"
     ],
     "language": "python",
     "metadata": {
      "slideshow": {
       "slide_type": "subslide"
      }
     },
     "outputs": [],
     "prompt_number": 30
    },
    {
     "cell_type": "code",
     "collapsed": false,
     "input": [
      "first"
     ],
     "language": "python",
     "metadata": {
      "slideshow": {
       "slide_type": "fragment"
      }
     },
     "outputs": [
      {
       "metadata": {},
       "output_type": "pyout",
       "prompt_number": 31,
       "text": [
        "0"
       ]
      }
     ],
     "prompt_number": 31
    },
    {
     "cell_type": "code",
     "collapsed": false,
     "input": [
      "rest"
     ],
     "language": "python",
     "metadata": {
      "slideshow": {
       "slide_type": "fragment"
      }
     },
     "outputs": [
      {
       "metadata": {},
       "output_type": "pyout",
       "prompt_number": 32,
       "text": [
        "[1, 2, 3, 4]"
       ]
      }
     ],
     "prompt_number": 32
    },
    {
     "cell_type": "code",
     "collapsed": false,
     "input": [
      "first, *middle, last = range(5)"
     ],
     "language": "python",
     "metadata": {
      "slideshow": {
       "slide_type": "subslide"
      }
     },
     "outputs": [],
     "prompt_number": 33
    },
    {
     "cell_type": "code",
     "collapsed": false,
     "input": [
      "middle"
     ],
     "language": "python",
     "metadata": {
      "slideshow": {
       "slide_type": "fragment"
      }
     },
     "outputs": [
      {
       "metadata": {},
       "output_type": "pyout",
       "prompt_number": 34,
       "text": [
        "[1, 2, 3]"
       ]
      }
     ],
     "prompt_number": 34
    },
    {
     "cell_type": "code",
     "collapsed": false,
     "input": [
      "last"
     ],
     "language": "python",
     "metadata": {
      "slideshow": {
       "slide_type": "fragment"
      }
     },
     "outputs": [
      {
       "metadata": {},
       "output_type": "pyout",
       "prompt_number": 35,
       "text": [
        "4"
       ]
      }
     ],
     "prompt_number": 35
    },
    {
     "cell_type": "code",
     "collapsed": false,
     "input": [
      "first, *middle, least_but_not_last, last = range(5)"
     ],
     "language": "python",
     "metadata": {
      "slideshow": {
       "slide_type": "subslide"
      }
     },
     "outputs": [],
     "prompt_number": 36
    },
    {
     "cell_type": "code",
     "collapsed": false,
     "input": [
      "least_but_not_last"
     ],
     "language": "python",
     "metadata": {
      "slideshow": {
       "slide_type": "fragment"
      }
     },
     "outputs": [
      {
       "metadata": {},
       "output_type": "pyout",
       "prompt_number": 37,
       "text": [
        "3"
       ]
      }
     ],
     "prompt_number": 37
    },
    {
     "cell_type": "markdown",
     "metadata": {
      "slideshow": {
       "slide_type": "slide"
      }
     },
     "source": [
      "#Function annotations"
     ]
    },
    {
     "cell_type": "code",
     "collapsed": false,
     "input": [
      "def foo(a: 'x', b: 5 + 6, c: list) -> max(2, 9):\n",
      "    print(a, b, c)"
     ],
     "language": "python",
     "metadata": {
      "slideshow": {
       "slide_type": "subslide"
      }
     },
     "outputs": [],
     "prompt_number": 38
    },
    {
     "cell_type": "code",
     "collapsed": false,
     "input": [
      "foo(1, 2, 3)"
     ],
     "language": "python",
     "metadata": {
      "slideshow": {
       "slide_type": "fragment"
      }
     },
     "outputs": [
      {
       "output_type": "stream",
       "stream": "stdout",
       "text": [
        "1 2 3\n"
       ]
      }
     ],
     "prompt_number": 39
    },
    {
     "cell_type": "code",
     "collapsed": false,
     "input": [
      "foo.__annotations__"
     ],
     "language": "python",
     "metadata": {
      "slideshow": {
       "slide_type": "fragment"
      }
     },
     "outputs": [
      {
       "metadata": {},
       "output_type": "pyout",
       "prompt_number": 40,
       "text": [
        "{'a': 'x', 'c': list, 'b': 11, 'return': 9}"
       ]
      }
     ],
     "prompt_number": 40
    },
    {
     "cell_type": "code",
     "collapsed": false,
     "input": [
      "foo.__annotations__['a']"
     ],
     "language": "python",
     "metadata": {
      "slideshow": {
       "slide_type": "fragment"
      }
     },
     "outputs": [
      {
       "metadata": {},
       "output_type": "pyout",
       "prompt_number": 41,
       "text": [
        "'x'"
       ]
      }
     ],
     "prompt_number": 41
    },
    {
     "cell_type": "markdown",
     "metadata": {
      "slideshow": {
       "slide_type": "subslide"
      }
     },
     "source": [
      "#Real life example of function annotations"
     ]
    },
    {
     "cell_type": "code",
     "collapsed": false,
     "input": [
      "!pip install pytest pytest-quickcheck"
     ],
     "language": "python",
     "metadata": {
      "slideshow": {
       "slide_type": "subslide"
      }
     },
     "outputs": [
      {
       "output_type": "stream",
       "stream": "stdout",
       "text": [
        "Requirement already satisfied (use --upgrade to upgrade): pytest in ./lib/python3.4/site-packages\r\n",
        "Requirement already satisfied (use --upgrade to upgrade): pytest-quickcheck in ./lib/python3.4/site-packages\r\n",
        "Requirement already satisfied (use --upgrade to upgrade): py>=1.4.20 in ./lib/python3.4/site-packages (from pytest)\r\n",
        "Requirement already satisfied (use --upgrade to upgrade): distribute in ./lib/python3.4/site-packages (from pytest-quickcheck)\r\n",
        "Requirement already satisfied (use --upgrade to upgrade): setuptools>=0.7 in ./lib/python3.4/site-packages (from distribute->pytest-quickcheck)\r\n",
        "Cleaning up...\r\n"
       ]
      }
     ],
     "prompt_number": 25
    },
    {
     "cell_type": "code",
     "collapsed": false,
     "input": [
      "%%writefile test.py\n",
      "\n",
      "import pytest\n",
      "\n",
      "\n",
      "MAX_NUMBER = 4\n",
      "\n",
      "\n",
      "@pytest.mark.randomize(min_num=0, max_num=MAX_NUMBER, ncalls=12)\n",
      "def test_generate_adding_ints(i1: int, i2: int):\n",
      "    assert i1 + i2 <= 2 * MAX_NUMBER"
     ],
     "language": "python",
     "metadata": {
      "slideshow": {
       "slide_type": "subslide"
      }
     },
     "outputs": [
      {
       "output_type": "stream",
       "stream": "stdout",
       "text": [
        "Overwriting test.py\n"
       ]
      }
     ],
     "prompt_number": 26
    },
    {
     "cell_type": "code",
     "collapsed": false,
     "input": [
      "!python -m pytest test.py"
     ],
     "language": "python",
     "metadata": {
      "slideshow": {
       "slide_type": "subslide"
      }
     },
     "outputs": [
      {
       "output_type": "stream",
       "stream": "stdout",
       "text": [
        "\u001b[1m============================= test session starts ==============================\u001b[0m\r\n",
        "platform linux -- Python 3.4.0 -- py-1.4.20 -- pytest-2.5.2\r\n",
        "plugins: quickcheck\r\n",
        "\u001b[1m\r",
        "collecting 0 items\u001b[0m\u001b[1m\r",
        "collecting 144 items\u001b[0m\u001b[1m\r",
        "collected 144 items \r\n",
        "\u001b[0m\r\n",
        "test.py ."
       ]
      },
      {
       "output_type": "stream",
       "stream": "stdout",
       "text": [
        "....................................."
       ]
      },
      {
       "output_type": "stream",
       "stream": "stdout",
       "text": [
        "....................................."
       ]
      },
      {
       "output_type": "stream",
       "stream": "stdout",
       "text": [
        "....................................."
       ]
      },
      {
       "output_type": "stream",
       "stream": "stdout",
       "text": [
        "................................\r\n",
        "\r\n",
        "\u001b[1m\u001b[32m========================== 144 passed in 0.22 seconds ==========================\u001b[0m\r\n"
       ]
      }
     ],
     "prompt_number": 27
    },
    {
     "cell_type": "markdown",
     "metadata": {
      "slideshow": {
       "slide_type": "slide"
      }
     },
     "source": [
      "#Other important changes\n",
      "- super is now super()\n",
      "- print as a function\n",
      "- new string formatting\n"
     ]
    },
    {
     "cell_type": "markdown",
     "metadata": {
      "slideshow": {
       "slide_type": "slide"
      }
     },
     "source": [
      "#Further reading & materials\n",
      "\n",
      "- Bret Cannon's [slides](https://speakerdeck.com/pyconslides/python-3-dot-3-trust-me-its-better-than-python-2-dot-7-by-dr-brett-cannon) & [talk](http://pyvideo.org/video/1730/python-33-trust-me-its-better-than-27)\n",
      "- Python what's new essays:\n",
      "    - [3.0](htps://docs.python.org/3/whatsnew/3.0.html)\n",
      "    - [3.1](htps://docs.python.org/3/whatsnew/3.1.html)\n",
      "    - [3.2](htps://docs.python.org/3/whatsnew/3.2.html)\n",
      "    - [3.3](htps://docs.python.org/3/whatsnew/3.3.html)\n",
      "    - [3.4](https://docs.python.org/3/whatsnew/3.4.html)\n",
      "- generators the final frontier [talk](http://pyvideo.org/video/2575/generators-the-final-frontier)\n",
      "- Moving from python2 to python3 [cheatsheet](http://ptgmedia.pearsoncmg.com/imprint_downloads/informit/promotions/python/python2python3.pdf)\n",
      "- [python2 gravity](http://blog.startifact.com/posts/python-2-gravity.html)"
     ]
    },
    {
     "cell_type": "markdown",
     "metadata": {
      "slideshow": {
       "slide_type": "slide"
      }
     },
     "source": [
      "#Q & A\n",
      "\n",
      "![](http://static.squarespace.com/static/50b76babe4b05c3cd8bab78a/50b7714be4b0192bc2226c59/50b7714ce4b0192bc2226d1c/1323424508000/?format=original)"
     ]
    }
   ],
   "metadata": {}
  }
 ]
}